{
 "cells": [
  {
   "cell_type": "code",
   "execution_count": 1,
   "metadata": {},
   "outputs": [
    {
     "data": {
      "text/plain": [
       "True"
      ]
     },
     "execution_count": 1,
     "metadata": {},
     "output_type": "execute_result"
    }
   ],
   "source": [
    "# Set up env variables \n",
    "# This should be SPOTIPY_CLIENT_ID and SPOTIPY_CLIENT_SECRET in the .env file\n",
    "from dotenv import load_dotenv\n",
    "load_dotenv()"
   ]
  },
  {
   "cell_type": "code",
   "execution_count": 2,
   "metadata": {},
   "outputs": [],
   "source": [
    "# Imports, this also sets up the Spotify API\n",
    "import pickle\n",
    "import pandas as pd\n",
    "\n",
    "from data_utils.clean import *\n",
    "from pathlib import Path"
   ]
  },
  {
   "cell_type": "code",
   "execution_count": 3,
   "metadata": {},
   "outputs": [],
   "source": [
    "# Retrieve songs from files\n",
    "songs = cat_files()\n",
    "unique_songs = get_unique_songs(songs)"
   ]
  },
  {
   "cell_type": "code",
   "execution_count": 4,
   "metadata": {},
   "outputs": [],
   "source": [
    "file = Path(\"data/saves/uri.p\")\n",
    "if not file.is_file():\n",
    "    # Get Unique URI from song list using Spotify API. this process takes a very long time, ~400 songs / 1min\n",
    "    uri_map = get_uri_mapping(unique_songs)\n",
    "\n",
    "    # Pickles uri to file to avoid rerunning\n",
    "    with open(\"data/saves/uri.p\", \"wb\") as f:\n",
    "        pickle.dump(uri_map, f, protocol=pickle.HIGHEST_PROTOCOL)\n",
    "else:\n",
    "    # Loads file if it already exists\n",
    "    with open(\"data/saves/uri.p\", \"rb\") as f:\n",
    "        uri_map = pickle.load(f)\n"
   ]
  },
  {
   "cell_type": "code",
   "execution_count": 5,
   "metadata": {},
   "outputs": [],
   "source": [
    "file = Path(\"data/saves/features.p\")\n",
    "if not file.is_file():\n",
    "    # Get features based on URIs. This takes about as much time as retrieving URIs\n",
    "    features = get_features(list(uri_map.values())[5000:])\n",
    "\n",
    "    # Pickles features to file to avoid rerunning\n",
    "    with open(\"data/saves/features.p\", \"wb\") as f:\n",
    "        pickle.dump(features, f, protocol=pickle.HIGHEST_PROTOCOL)\n",
    "else:\n",
    "    # Loads file if it already exists\n",
    "    with open(\"data/saves/features.p\", \"rb\") as f:\n",
    "        features = pickle.load(f)"
   ]
  },
  {
   "cell_type": "code",
   "execution_count": 6,
   "metadata": {},
   "outputs": [],
   "source": [
    "file = Path(\"data/saves/features.p\")\n",
    "if not file.is_file():\n",
    "    # Get features based on URIs. This takes about as much time as retrieving URIs\n",
    "    features = get_features(list(uri_map.values()))\n",
    "\n",
    "    # Pickles features to file to avoid rerunning\n",
    "    with open(\"data/saves/features.p\", \"wb\") as f:\n",
    "        pickle.dump(features, f, protocol=pickle.HIGHEST_PROTOCOL)\n",
    "else:\n",
    "    # Loads file if it already exists\n",
    "    with open(\"data/saves/features.p\", \"rb\") as f:\n",
    "        features = pickle.load(f)"
   ]
  },
  {
   "cell_type": "code",
   "execution_count": 7,
   "metadata": {},
   "outputs": [],
   "source": [
    "file = Path(\"data/saves/stream_time.p\")\n",
    "if not file.is_file():\n",
    "    stream_times = total_listen_time(songs, uri_map)\n",
    "\n",
    "    with open(\"data/saves/stream_time.p\", \"wb\") as f:\n",
    "        pickle.dump(stream_times, f, protocol=pickle.HIGHEST_PROTOCOL)\n",
    "else:\n",
    "    # Loads file if it already exists\n",
    "    with open(\"data/saves/stream_time.p\", \"rb\") as f:\n",
    "        stream_times = pickle.load(f)"
   ]
  },
  {
   "cell_type": "code",
   "execution_count": 8,
   "metadata": {},
   "outputs": [],
   "source": [
    "# Create csv from uris and feature mappings\n",
    "feature_df = mappings_to_csv(uri_map, features, stream_times)\n",
    "\n",
    "# Create csv from streaming time including URI, excluding tracks that do not have a URI mapping\n",
    "stream_df = stream_time_to_csv(songs, uri_map)\n",
    "\n",
    "# Combine both streaming data and track feaature data to be used for visualization\n",
    "combined_df = combine_feature_stream(feature_df, stream_df)\n",
    "\n",
    "# Create monthly data to be used for visualization\n",
    "monthly_df = monthy_artist_metrics(combined_df)\n",
    "\n",
    "# Create artist detail to be use for tooltips\n",
    "details = artist_detail_metrics(combined_df)"
   ]
  },
  {
   "cell_type": "code",
   "execution_count": null,
   "metadata": {},
   "outputs": [],
   "source": [
    "pd.read_csv(\"data/dataframes/stream_history.csv\").head()"
   ]
  },
  {
   "cell_type": "code",
   "execution_count": null,
   "metadata": {},
   "outputs": [],
   "source": [
    "pd.read_csv(\"data/dataframes/track_features.csv\").head()"
   ]
  },
  {
   "cell_type": "code",
   "execution_count": null,
   "metadata": {},
   "outputs": [],
   "source": [
    "pd.read_csv(\"data/dataframes/combined_data.csv\").head()"
   ]
  }
 ],
 "metadata": {
  "kernelspec": {
   "display_name": "Python 3.8.8 ('base')",
   "language": "python",
   "name": "python3"
  },
  "language_info": {
   "codemirror_mode": {
    "name": "ipython",
    "version": 3
   },
   "file_extension": ".py",
   "mimetype": "text/x-python",
   "name": "python",
   "nbconvert_exporter": "python",
   "pygments_lexer": "ipython3",
   "version": "3.8.8"
  },
  "orig_nbformat": 4,
  "vscode": {
   "interpreter": {
    "hash": "ee3e15c082faa927dce30be785a179c71097375141215d11bd7f4383442858e6"
   }
  }
 },
 "nbformat": 4,
 "nbformat_minor": 2
}
